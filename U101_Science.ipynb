{
  "nbformat": 4,
  "nbformat_minor": 0,
  "metadata": {
    "colab": {
      "private_outputs": true,
      "provenance": [],
      "authorship_tag": "ABX9TyNTxAzism7dJvp4K73c7+CX",
      "include_colab_link": true
    },
    "kernelspec": {
      "name": "python3",
      "display_name": "Python 3"
    },
    "language_info": {
      "name": "python"
    }
  },
  "cells": [
    {
      "cell_type": "markdown",
      "metadata": {
        "id": "view-in-github",
        "colab_type": "text"
      },
      "source": [
        "<a href=\"https://colab.research.google.com/github/syedabdullahbukhari77/NumericalComputingPython/blob/main/U101_Science.ipynb\" target=\"_parent\"><img src=\"https://colab.research.google.com/assets/colab-badge.svg\" alt=\"Open In Colab\"/></a>"
      ]
    },
    {
      "cell_type": "markdown",
      "source": [
        "#**Starting-with-Programming**\n"
      ],
      "metadata": {
        "id": "ihTzlSbL-ybl"
      }
    },
    {
      "cell_type": "code",
      "source": [
        "10 == 10"
      ],
      "metadata": {
        "id": "-bim7qg5z5oe"
      },
      "execution_count": null,
      "outputs": []
    },
    {
      "cell_type": "code",
      "source": [
        "!pip bs4"
      ],
      "metadata": {
        "id": "0AWe6PyI-oI1"
      },
      "execution_count": null,
      "outputs": []
    },
    {
      "cell_type": "code",
      "source": [
        "x = [1 , 3 , 6 , 8]\n",
        "\n",
        "def sqaure_num(x: int):\n",
        "  return x**3\n",
        "\n",
        "print(list(map(sqaure_num,x)))"
      ],
      "metadata": {
        "id": "f-zPeCviAh4C"
      },
      "execution_count": null,
      "outputs": []
    },
    {
      "cell_type": "code",
      "source": [],
      "metadata": {
        "id": "_akuyfrTfSvY"
      },
      "execution_count": null,
      "outputs": []
    }
  ]
}